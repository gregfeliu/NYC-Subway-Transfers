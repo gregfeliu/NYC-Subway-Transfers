{
 "cells": [
  {
   "cell_type": "markdown",
   "metadata": {},
   "source": [
    "The purpose of this notebook is to **analyze the subway stations according to their proportion of transfers in their ridership**. Data was created using the [Hourly subway ridership dataset](https://data.ny.gov/Transportation/MTA-Subway-Hourly-Ridership-2020-2024/wujg-7c2s/about_data). Note: transfers are only for out-of-system transfers and multi-modal transfers (bus->subway) -- between train transfers (from within the same station complex) are not included. "
   ]
  },
  {
   "cell_type": "markdown",
   "metadata": {},
   "source": [
    "# Imports"
   ]
  },
  {
   "cell_type": "code",
   "execution_count": 1,
   "metadata": {
    "ExecuteTime": {
     "end_time": "2022-08-01T19:01:49.367266Z",
     "start_time": "2022-08-01T19:01:45.412594Z"
    }
   },
   "outputs": [],
   "source": [
    "import pandas as pd\n",
    "import seaborn as sns\n",
    "import geopandas as gpd\n",
    "from geodatasets import get_path\n",
    "path_to_file = get_path('nybb')\n",
    "import matplotlib.pyplot as plt\n",
    "import requests"
   ]
  },
  {
   "cell_type": "markdown",
   "metadata": {},
   "source": [
    "# Analysis of Payment Methods \n",
    "Are there more metrocard payments at high transfer ratio stations?"
   ]
  },
  {
   "cell_type": "markdown",
   "metadata": {},
   "source": [
    "### Geo Data"
   ]
  },
  {
   "cell_type": "code",
   "execution_count": 19,
   "metadata": {},
   "outputs": [],
   "source": [
    "boros = gpd.read_file(path_to_file)\n",
    "boros = boros.to_crs(epsg=4326)\n",
    "boros.drop(0, inplace=True) #removing staten island\n",
    "# from: https://geo.nyu.edu/catalog/nyu-2451-34758\n",
    "lines_gdf = gpd.read_file(\"./data/nyu-2451-34758-shapefile/nyu_2451_34758.shp\")\n",
    "lines_gdf = lines_gdf[lines_gdf['route_id']!='SI']"
   ]
  },
  {
   "cell_type": "markdown",
   "metadata": {},
   "source": [
    "## Data"
   ]
  },
  {
   "cell_type": "markdown",
   "metadata": {},
   "source": [
    "### Buses"
   ]
  },
  {
   "cell_type": "code",
   "execution_count": null,
   "metadata": {},
   "outputs": [
    {
     "data": {
      "text/html": [
       "<div>\n",
       "<style scoped>\n",
       "    .dataframe tbody tr th:only-of-type {\n",
       "        vertical-align: middle;\n",
       "    }\n",
       "\n",
       "    .dataframe tbody tr th {\n",
       "        vertical-align: top;\n",
       "    }\n",
       "\n",
       "    .dataframe thead th {\n",
       "        text-align: right;\n",
       "    }\n",
       "</style>\n",
       "<table border=\"1\" class=\"dataframe\">\n",
       "  <thead>\n",
       "    <tr style=\"text-align: right;\">\n",
       "      <th></th>\n",
       "      <th>Payment_method</th>\n",
       "      <th>Ridership</th>\n",
       "      <th>Transfers</th>\n",
       "      <th>transfer_ratio</th>\n",
       "    </tr>\n",
       "  </thead>\n",
       "  <tbody>\n",
       "    <tr>\n",
       "      <th>0</th>\n",
       "      <td>metrocard</td>\n",
       "      <td>235840935</td>\n",
       "      <td>36278726</td>\n",
       "      <td>0.154</td>\n",
       "    </tr>\n",
       "    <tr>\n",
       "      <th>1</th>\n",
       "      <td>omny</td>\n",
       "      <td>155891507</td>\n",
       "      <td>33486138</td>\n",
       "      <td>0.215</td>\n",
       "    </tr>\n",
       "  </tbody>\n",
       "</table>\n",
       "</div>"
      ],
      "text/plain": [
       "  Payment_method  Ridership  Transfers  transfer_ratio\n",
       "0      metrocard  235840935   36278726           0.154\n",
       "1           omny  155891507   33486138           0.215"
      ]
     },
     "execution_count": 72,
     "metadata": {},
     "output_type": "execute_result"
    }
   ],
   "source": [
    "## bus transfers by payment method in 2024\n",
    "# bus data comes from: https://data.ny.gov/resource/kv7t-n8in.json?$query=SELECT%0A%20%20%60payment_method%60%2C%0A%20%20sum(%60ridership%60)%20AS%20%60sum_ridership%60%2C%0A%20%20sum(%60transfers%60)%20AS%20%60sum_transfers%60%0AWHERE%0A%20%20%60transit_timestamp%60%0A%20%20%20%20BETWEEN%20%222024-01-01T00%3A00%3A00%22%20%3A%3A%20floating_timestamp%0A%20%20%20%20AND%20%222025-01-01T00%3A00%3A00%22%20%3A%3A%20floating_timestamp%0AGROUP%20BY%20%60payment_method%60\n",
    "bus_payment_df = pd.DataFrame(columns=['Payment_method', 'Ridership', 'Transfers'], data=[['metrocard', 235840935, 36278726], ['omny', 155891507, 33486138]])\n",
    "bus_payment_df['transfer_ratio'] = round(bus_payment_df['Transfers'] / bus_payment_df['Ridership'], 3)\n",
    "# OMNY users are more likely to be transferring on buses versus metrocard users on buses (subways have more metrocard users transferring)\n",
    "# ~19% of Bus riders arrive via a transfer versus ~4% of subway riders\n",
    "bus_payment_df"
   ]
  },
  {
   "cell_type": "code",
   "execution_count": null,
   "metadata": {},
   "outputs": [
    {
     "data": {
      "text/plain": [
       "0.52"
      ]
     },
     "execution_count": 99,
     "metadata": {},
     "output_type": "execute_result"
    }
   ],
   "source": [
    "# more transfers are made using metrocard in the buses\n",
    "round(36278726 / (36278726 + 33486138), 3)"
   ]
  },
  {
   "cell_type": "markdown",
   "metadata": {},
   "source": [
    "### Subways"
   ]
  },
  {
   "cell_type": "code",
   "execution_count": 2,
   "metadata": {},
   "outputs": [],
   "source": [
    "api_endpoint_payment = 'https://data.ny.gov/resource/wujg-7c2s.json?$query=SELECT%0A%20%20date_trunc_y(%60transit_timestamp%60)%20AS%20%60by_year_transit_timestamp%60%2C%0A%20%20%60station_complex_id%60%2C%0A%20%20%60station_complex%60%2C%0A%20%20%60payment_method%60%2C%0A%20%20%60latitude%60%2C%0A%20%20%60longitude%60%2C%0A%20%20sum(%60transfers%60)%20AS%20%60sum_transfers%60%2C%0A%20%20sum(%60ridership%60)%20AS%20%60sum_ridership%60%0AGROUP%20BY%0A%20%20date_trunc_y(%60transit_timestamp%60)%2C%0A%20%20%60station_complex_id%60%2C%0A%20%20%60station_complex%60%2C%0A%20%20%60payment_method%60%2C%0A%20%20%60latitude%60%2C%0A%20%20%60longitude%60%0AHAVING%0A%20%20%60by_year_transit_timestamp%60%0A%20%20%20%20%3E%3D%20%222024-01-01T00%3A00%3A00%22%20%3A%3A%20floating_timestamp'\n",
    "try: # only running if API hasn't been made yet \n",
    "    response_payment\n",
    "except Exception as e:\n",
    "    response_payment = requests.get(api_endpoint_payment)\n",
    "    response_data_payment = response_payment.json()\n",
    "# the stations are separate from complexes by default\n",
    "payment_transfer_df = pd.DataFrame(response_data_payment)"
   ]
  },
  {
   "cell_type": "code",
   "execution_count": 3,
   "metadata": {},
   "outputs": [],
   "source": [
    "payment_transfer_df.drop(columns='by_year_transit_timestamp', inplace=True)\n",
    "payment_transfer_df = payment_transfer_df[~payment_transfer_df['station_complex_id'].str.contains(\"TRAM\")]\n",
    "#  Data type fixing \n",
    "for col in payment_transfer_df.columns:\n",
    "    if col not in ['station_complex', 'payment_method']:\n",
    "        payment_transfer_df[col] = payment_transfer_df[col].values.astype(dtype='float')"
   ]
  },
  {
   "cell_type": "code",
   "execution_count": null,
   "metadata": {},
   "outputs": [
    {
     "data": {
      "text/html": [
       "<div>\n",
       "<style scoped>\n",
       "    .dataframe tbody tr th:only-of-type {\n",
       "        vertical-align: middle;\n",
       "    }\n",
       "\n",
       "    .dataframe tbody tr th {\n",
       "        vertical-align: top;\n",
       "    }\n",
       "\n",
       "    .dataframe thead th {\n",
       "        text-align: right;\n",
       "    }\n",
       "</style>\n",
       "<table border=\"1\" class=\"dataframe\">\n",
       "  <thead>\n",
       "    <tr style=\"text-align: right;\">\n",
       "      <th>payment_method</th>\n",
       "      <th>metrocard</th>\n",
       "      <th>omny</th>\n",
       "      <th>metrocard_to_omny_ridership_ratio</th>\n",
       "    </tr>\n",
       "  </thead>\n",
       "  <tbody>\n",
       "    <tr>\n",
       "      <th>sum_transfers</th>\n",
       "      <td>21793337.0</td>\n",
       "      <td>26704320.0</td>\n",
       "      <td>0.449369</td>\n",
       "    </tr>\n",
       "    <tr>\n",
       "      <th>sum_ridership</th>\n",
       "      <td>517534000.0</td>\n",
       "      <td>690617414.0</td>\n",
       "      <td>0.428368</td>\n",
       "    </tr>\n",
       "  </tbody>\n",
       "</table>\n",
       "</div>"
      ],
      "text/plain": [
       "payment_method    metrocard         omny  metrocard_to_omny_ridership_ratio\n",
       "sum_transfers    21793337.0   26704320.0                           0.449369\n",
       "sum_ridership   517534000.0  690617414.0                           0.428368"
      ]
     },
     "execution_count": 4,
     "metadata": {},
     "output_type": "execute_result"
    }
   ],
   "source": [
    "# do more people use omny or metrocard? -- Slightly more use OMNY\n",
    "# 45% of transfers are made with metrocard and 43% of all riders use metrocard\n",
    "payment_method_sum_df = payment_transfer_df.groupby('payment_method').sum()\n",
    "payment_method_sum_df.drop(columns=['station_complex_id', 'station_complex', 'latitude'\n",
    "                                    , 'longitude'], inplace=True)\n",
    "payment_method_sum_df = payment_method_sum_df.T\n",
    "payment_method_sum_df['metrocard_to_omny_ridership_ratio'] = payment_method_sum_df['metrocard'] /\\\n",
    "                                            (payment_method_sum_df['metrocard'] + payment_method_sum_df['omny'])\n",
    "payment_method_sum_df"
   ]
  },
  {
   "cell_type": "code",
   "execution_count": 5,
   "metadata": {},
   "outputs": [
    {
     "data": {
      "text/plain": [
       "payment_method\n",
       "metrocard                            0.042110\n",
       "omny                                 0.038667\n",
       "metrocard_to_omny_ridership_ratio    1.049024\n",
       "dtype: float64"
      ]
     },
     "execution_count": 5,
     "metadata": {},
     "output_type": "execute_result"
    }
   ],
   "source": [
    "# 4.2% of all metrocard users are transferring and 3.9% of all omny users are transferring\n",
    "payment_method_sum_df.T['sum_transfers'] / payment_method_sum_df.T['sum_ridership']"
   ]
  },
  {
   "cell_type": "code",
   "execution_count": null,
   "metadata": {},
   "outputs": [],
   "source": [
    "# merging into complexes \n",
    "stops_w_coords_payment = payment_transfer_df.groupby('station_complex_id')[['latitude', 'longitude']].mean().reset_index()\n",
    "for row in range(len(payment_transfer_df)):\n",
    "    for complex_row in range(len(stops_w_coords_payment)):\n",
    "        if payment_transfer_df.loc[row, 'station_complex_id'] == stops_w_coords_payment.loc[complex_row, 'station_complex_id']:\n",
    "            payment_transfer_df.loc[row, 'latitude'] = stops_w_coords_payment.loc[complex_row, 'latitude']\n",
    "            payment_transfer_df.loc[row, 'longitude'] = stops_w_coords_payment.loc[complex_row, 'longitude']\n",
    "complex_df_payment = payment_transfer_df.groupby(['station_complex', 'payment_method'])[['sum_ridership', 'sum_transfers']].sum().reset_index()\n",
    "# shows ratio transfers + payment method to all users\n",
    "complex_df_payment['transfer_ratio_by_payment'] = round(complex_df_payment['sum_transfers'] \n",
    "                                                        / complex_df_payment['sum_ridership'], 3)"
   ]
  },
  {
   "cell_type": "code",
   "execution_count": null,
   "metadata": {},
   "outputs": [],
   "source": [
    "complex_df_payment_raw_transfers = complex_df_payment.pivot(index='payment_method', columns='station_complex'\n",
    "                                                            , values='sum_transfers').T.reset_index()\n",
    "complex_df_payment_raw_transfers['transfer_payment_type_diff'] = complex_df_payment_raw_transfers['metrocard'] \\\n",
    "                                                         - complex_df_payment_raw_transfers['omny']\n",
    "# direct comparison of payment method by payment method\n",
    "complex_df_payment_raw_transfers['transfer_ratio_metrocard'] = round(complex_df_payment_raw_transfers['metrocard'] / \\\n",
    "                                    (complex_df_payment_raw_transfers['metrocard'] + complex_df_payment_raw_transfers['omny']), 3)"
   ]
  },
  {
   "cell_type": "code",
   "execution_count": 44,
   "metadata": {},
   "outputs": [
    {
     "data": {
      "text/html": [
       "<div>\n",
       "<style scoped>\n",
       "    .dataframe tbody tr th:only-of-type {\n",
       "        vertical-align: middle;\n",
       "    }\n",
       "\n",
       "    .dataframe tbody tr th {\n",
       "        vertical-align: top;\n",
       "    }\n",
       "\n",
       "    .dataframe thead th {\n",
       "        text-align: right;\n",
       "    }\n",
       "</style>\n",
       "<table border=\"1\" class=\"dataframe\">\n",
       "  <thead>\n",
       "    <tr style=\"text-align: right;\">\n",
       "      <th>payment_method</th>\n",
       "      <th>station_complex</th>\n",
       "      <th>metrocard</th>\n",
       "      <th>omny</th>\n",
       "      <th>transfer_payment_type_diff</th>\n",
       "      <th>transfer_ratio_metrocard</th>\n",
       "    </tr>\n",
       "  </thead>\n",
       "  <tbody>\n",
       "    <tr>\n",
       "      <th>0</th>\n",
       "      <td>1 Av (L)</td>\n",
       "      <td>47877.0</td>\n",
       "      <td>93035.0</td>\n",
       "      <td>-45158.0</td>\n",
       "      <td>0.340</td>\n",
       "    </tr>\n",
       "    <tr>\n",
       "      <th>1</th>\n",
       "      <td>103 St (1)</td>\n",
       "      <td>6882.0</td>\n",
       "      <td>13901.0</td>\n",
       "      <td>-7019.0</td>\n",
       "      <td>0.331</td>\n",
       "    </tr>\n",
       "    <tr>\n",
       "      <th>2</th>\n",
       "      <td>103 St (6)</td>\n",
       "      <td>7707.0</td>\n",
       "      <td>10548.0</td>\n",
       "      <td>-2841.0</td>\n",
       "      <td>0.422</td>\n",
       "    </tr>\n",
       "    <tr>\n",
       "      <th>3</th>\n",
       "      <td>103 St (C,B)</td>\n",
       "      <td>1514.0</td>\n",
       "      <td>4134.0</td>\n",
       "      <td>-2620.0</td>\n",
       "      <td>0.268</td>\n",
       "    </tr>\n",
       "    <tr>\n",
       "      <th>4</th>\n",
       "      <td>103 St-Corona Plaza (7)</td>\n",
       "      <td>115027.0</td>\n",
       "      <td>177649.0</td>\n",
       "      <td>-62622.0</td>\n",
       "      <td>0.393</td>\n",
       "    </tr>\n",
       "    <tr>\n",
       "      <th>...</th>\n",
       "      <td>...</td>\n",
       "      <td>...</td>\n",
       "      <td>...</td>\n",
       "      <td>...</td>\n",
       "      <td>...</td>\n",
       "    </tr>\n",
       "    <tr>\n",
       "      <th>421</th>\n",
       "      <td>Woodhaven Blvd (J,Z)</td>\n",
       "      <td>22847.0</td>\n",
       "      <td>25594.0</td>\n",
       "      <td>-2747.0</td>\n",
       "      <td>0.472</td>\n",
       "    </tr>\n",
       "    <tr>\n",
       "      <th>422</th>\n",
       "      <td>Woodhaven Blvd (M,R)</td>\n",
       "      <td>273295.0</td>\n",
       "      <td>357233.0</td>\n",
       "      <td>-83938.0</td>\n",
       "      <td>0.433</td>\n",
       "    </tr>\n",
       "    <tr>\n",
       "      <th>423</th>\n",
       "      <td>Woodlawn (4)</td>\n",
       "      <td>275074.0</td>\n",
       "      <td>64052.0</td>\n",
       "      <td>211022.0</td>\n",
       "      <td>0.811</td>\n",
       "    </tr>\n",
       "    <tr>\n",
       "      <th>424</th>\n",
       "      <td>York St (F)</td>\n",
       "      <td>7757.0</td>\n",
       "      <td>22003.0</td>\n",
       "      <td>-14246.0</td>\n",
       "      <td>0.261</td>\n",
       "    </tr>\n",
       "    <tr>\n",
       "      <th>425</th>\n",
       "      <td>Zerega Av (6)</td>\n",
       "      <td>1138.0</td>\n",
       "      <td>1048.0</td>\n",
       "      <td>90.0</td>\n",
       "      <td>0.521</td>\n",
       "    </tr>\n",
       "  </tbody>\n",
       "</table>\n",
       "<p>426 rows × 5 columns</p>\n",
       "</div>"
      ],
      "text/plain": [
       "payment_method          station_complex  metrocard      omny  \\\n",
       "0                              1 Av (L)    47877.0   93035.0   \n",
       "1                            103 St (1)     6882.0   13901.0   \n",
       "2                            103 St (6)     7707.0   10548.0   \n",
       "3                          103 St (C,B)     1514.0    4134.0   \n",
       "4               103 St-Corona Plaza (7)   115027.0  177649.0   \n",
       "..                                  ...        ...       ...   \n",
       "421                Woodhaven Blvd (J,Z)    22847.0   25594.0   \n",
       "422                Woodhaven Blvd (M,R)   273295.0  357233.0   \n",
       "423                        Woodlawn (4)   275074.0   64052.0   \n",
       "424                         York St (F)     7757.0   22003.0   \n",
       "425                       Zerega Av (6)     1138.0    1048.0   \n",
       "\n",
       "payment_method  transfer_payment_type_diff  transfer_ratio_metrocard  \n",
       "0                                 -45158.0                     0.340  \n",
       "1                                  -7019.0                     0.331  \n",
       "2                                  -2841.0                     0.422  \n",
       "3                                  -2620.0                     0.268  \n",
       "4                                 -62622.0                     0.393  \n",
       "..                                     ...                       ...  \n",
       "421                                -2747.0                     0.472  \n",
       "422                               -83938.0                     0.433  \n",
       "423                               211022.0                     0.811  \n",
       "424                               -14246.0                     0.261  \n",
       "425                                   90.0                     0.521  \n",
       "\n",
       "[426 rows x 5 columns]"
      ]
     },
     "execution_count": 44,
     "metadata": {},
     "output_type": "execute_result"
    }
   ],
   "source": [
    "complex_df_payment_raw_transfers"
   ]
  },
  {
   "cell_type": "code",
   "execution_count": 35,
   "metadata": {},
   "outputs": [],
   "source": [
    "## a third of stations have more metrocard transfers than omny transfers\n",
    "# complex_df_payment_raw_transfers[complex_df_payment_raw_transfers['transfer_type_diff'] > 0].count()"
   ]
  },
  {
   "cell_type": "code",
   "execution_count": null,
   "metadata": {},
   "outputs": [
    {
     "data": {
      "text/html": [
       "<div>\n",
       "<style scoped>\n",
       "    .dataframe tbody tr th:only-of-type {\n",
       "        vertical-align: middle;\n",
       "    }\n",
       "\n",
       "    .dataframe tbody tr th {\n",
       "        vertical-align: top;\n",
       "    }\n",
       "\n",
       "    .dataframe thead th {\n",
       "        text-align: right;\n",
       "    }\n",
       "</style>\n",
       "<table border=\"1\" class=\"dataframe\">\n",
       "  <thead>\n",
       "    <tr style=\"text-align: right;\">\n",
       "      <th>payment_method</th>\n",
       "      <th>station_complex</th>\n",
       "      <th>metrocard</th>\n",
       "      <th>omny</th>\n",
       "      <th>transfer_payment_type_diff</th>\n",
       "      <th>transfer_ratio_metrocard</th>\n",
       "    </tr>\n",
       "  </thead>\n",
       "  <tbody>\n",
       "    <tr>\n",
       "      <th>259</th>\n",
       "      <td>Far Rockaway-Mott Av (A)</td>\n",
       "      <td>58322.0</td>\n",
       "      <td>21901.0</td>\n",
       "      <td>36421.0</td>\n",
       "      <td>0.727</td>\n",
       "    </tr>\n",
       "    <tr>\n",
       "      <th>5</th>\n",
       "      <td>104 St (A)</td>\n",
       "      <td>3204.0</td>\n",
       "      <td>1190.0</td>\n",
       "      <td>2014.0</td>\n",
       "      <td>0.729</td>\n",
       "    </tr>\n",
       "    <tr>\n",
       "      <th>177</th>\n",
       "      <td>Baychester Av (5)</td>\n",
       "      <td>7986.0</td>\n",
       "      <td>2815.0</td>\n",
       "      <td>5171.0</td>\n",
       "      <td>0.739</td>\n",
       "    </tr>\n",
       "    <tr>\n",
       "      <th>254</th>\n",
       "      <td>Eastchester-Dyre Av (5)</td>\n",
       "      <td>59096.0</td>\n",
       "      <td>20423.0</td>\n",
       "      <td>38673.0</td>\n",
       "      <td>0.743</td>\n",
       "    </tr>\n",
       "    <tr>\n",
       "      <th>346</th>\n",
       "      <td>Nereid Av (2,5)</td>\n",
       "      <td>43635.0</td>\n",
       "      <td>14597.0</td>\n",
       "      <td>29038.0</td>\n",
       "      <td>0.749</td>\n",
       "    </tr>\n",
       "    <tr>\n",
       "      <th>354</th>\n",
       "      <td>Norwood Av (J,Z)</td>\n",
       "      <td>2013.0</td>\n",
       "      <td>601.0</td>\n",
       "      <td>1412.0</td>\n",
       "      <td>0.770</td>\n",
       "    </tr>\n",
       "    <tr>\n",
       "      <th>405</th>\n",
       "      <td>Van Cortlandt Park-242 St (1)</td>\n",
       "      <td>218964.0</td>\n",
       "      <td>54066.0</td>\n",
       "      <td>164898.0</td>\n",
       "      <td>0.802</td>\n",
       "    </tr>\n",
       "    <tr>\n",
       "      <th>423</th>\n",
       "      <td>Woodlawn (4)</td>\n",
       "      <td>275074.0</td>\n",
       "      <td>64052.0</td>\n",
       "      <td>211022.0</td>\n",
       "      <td>0.811</td>\n",
       "    </tr>\n",
       "    <tr>\n",
       "      <th>91</th>\n",
       "      <td>36 St (M,R)</td>\n",
       "      <td>6705.0</td>\n",
       "      <td>1239.0</td>\n",
       "      <td>5466.0</td>\n",
       "      <td>0.844</td>\n",
       "    </tr>\n",
       "    <tr>\n",
       "      <th>413</th>\n",
       "      <td>Wakefield-241 St (2)</td>\n",
       "      <td>35338.0</td>\n",
       "      <td>762.0</td>\n",
       "      <td>34576.0</td>\n",
       "      <td>0.979</td>\n",
       "    </tr>\n",
       "  </tbody>\n",
       "</table>\n",
       "</div>"
      ],
      "text/plain": [
       "payment_method                station_complex  metrocard     omny  \\\n",
       "259                  Far Rockaway-Mott Av (A)    58322.0  21901.0   \n",
       "5                                  104 St (A)     3204.0   1190.0   \n",
       "177                         Baychester Av (5)     7986.0   2815.0   \n",
       "254                   Eastchester-Dyre Av (5)    59096.0  20423.0   \n",
       "346                           Nereid Av (2,5)    43635.0  14597.0   \n",
       "354                          Norwood Av (J,Z)     2013.0    601.0   \n",
       "405             Van Cortlandt Park-242 St (1)   218964.0  54066.0   \n",
       "423                              Woodlawn (4)   275074.0  64052.0   \n",
       "91                                36 St (M,R)     6705.0   1239.0   \n",
       "413                      Wakefield-241 St (2)    35338.0    762.0   \n",
       "\n",
       "payment_method  transfer_payment_type_diff  transfer_ratio_metrocard  \n",
       "259                                36421.0                     0.727  \n",
       "5                                   2014.0                     0.729  \n",
       "177                                 5171.0                     0.739  \n",
       "254                                38673.0                     0.743  \n",
       "346                                29038.0                     0.749  \n",
       "354                                 1412.0                     0.770  \n",
       "405                               164898.0                     0.802  \n",
       "423                               211022.0                     0.811  \n",
       "91                                  5466.0                     0.844  \n",
       "413                                34576.0                     0.979  "
      ]
     },
     "execution_count": 55,
     "metadata": {},
     "output_type": "execute_result"
    }
   ],
   "source": [
    "complex_df_payment_raw_transfers.sort_values(by='transfer_ratio_metrocard').tail(10)"
   ]
  },
  {
   "cell_type": "code",
   "execution_count": 45,
   "metadata": {},
   "outputs": [],
   "source": [
    "payment_ratio_df = complex_df_payment.pivot(index='station_complex', columns='payment_method'\n",
    "                         , values='transfer_ratio_by_payment').reset_index()\n",
    "payment_ratio_df['payment_ratio_diff'] = payment_ratio_df['metrocard'] - payment_ratio_df['omny']\n",
    "# most stations have transfers via metrocard\n",
    "# sns.boxplot(payment_ratio_df, y='payment_ratio_diff')\n",
    "payment_ratio_df['high_diff'] = [True if abs(x) > 0.03 else False \n",
    "                                 for x in payment_ratio_df['payment_ratio_diff']]"
   ]
  },
  {
   "cell_type": "code",
   "execution_count": 91,
   "metadata": {},
   "outputs": [],
   "source": [
    "complex_df_payment_gdf_pre = pd.merge(left=complex_df_payment_raw_transfers, right=payment_transfer_df, on='station_complex')\n",
    "complex_df_payment_gdf_pre.drop(columns=['sum_transfers', 'sum_ridership', 'payment_method']\n",
    "                           , inplace=True)\n",
    "complex_df_payment_gdf_pre.drop_duplicates(inplace=True)\n",
    "complex_df_payment_gdf = gpd.GeoDataFrame(complex_df_payment_gdf_pre, \n",
    "                                geometry=gpd.points_from_xy(complex_df_payment_gdf_pre.longitude, \n",
    "                                                            complex_df_payment_gdf_pre.latitude))\n",
    "complex_df_payment_gdf_sorted = complex_df_payment_gdf.sort_values(by='transfer_ratio_metrocard')\n",
    "# payment_ratio_gdf_sorted = payment_ratio_gdf[payment_ratio_gdf['high_diff']==True].sort_values(by='payment_ratio_diff')"
   ]
  },
  {
   "cell_type": "code",
   "execution_count": 97,
   "metadata": {},
   "outputs": [
    {
     "data": {
      "text/html": [
       "<div>\n",
       "<style scoped>\n",
       "    .dataframe tbody tr th:only-of-type {\n",
       "        vertical-align: middle;\n",
       "    }\n",
       "\n",
       "    .dataframe tbody tr th {\n",
       "        vertical-align: top;\n",
       "    }\n",
       "\n",
       "    .dataframe thead th {\n",
       "        text-align: right;\n",
       "    }\n",
       "</style>\n",
       "<table border=\"1\" class=\"dataframe\">\n",
       "  <thead>\n",
       "    <tr style=\"text-align: right;\">\n",
       "      <th></th>\n",
       "      <th>station_complex</th>\n",
       "      <th>metrocard</th>\n",
       "      <th>omny</th>\n",
       "      <th>transfer_payment_type_diff</th>\n",
       "      <th>transfer_ratio_metrocard</th>\n",
       "      <th>station_complex_id</th>\n",
       "      <th>latitude</th>\n",
       "      <th>longitude</th>\n",
       "      <th>geometry</th>\n",
       "    </tr>\n",
       "  </thead>\n",
       "  <tbody>\n",
       "    <tr>\n",
       "      <th>890</th>\n",
       "      <td>Spring St (6)</td>\n",
       "      <td>1245.0</td>\n",
       "      <td>6278.0</td>\n",
       "      <td>-5033.0</td>\n",
       "      <td>0.165</td>\n",
       "      <td>409.0</td>\n",
       "      <td>40.722300</td>\n",
       "      <td>-73.997140</td>\n",
       "      <td>POINT (-73.99714 40.7223)</td>\n",
       "    </tr>\n",
       "    <tr>\n",
       "      <th>466</th>\n",
       "      <td>Canal St (A,C,E)</td>\n",
       "      <td>1450.0</td>\n",
       "      <td>7346.0</td>\n",
       "      <td>-5896.0</td>\n",
       "      <td>0.165</td>\n",
       "      <td>169.0</td>\n",
       "      <td>40.720825</td>\n",
       "      <td>-74.005226</td>\n",
       "      <td>POINT (-74.00523 40.72082)</td>\n",
       "    </tr>\n",
       "    <tr>\n",
       "      <th>174</th>\n",
       "      <td>28 St (R,W)</td>\n",
       "      <td>1585.0</td>\n",
       "      <td>7369.0</td>\n",
       "      <td>-5784.0</td>\n",
       "      <td>0.177</td>\n",
       "      <td>13.0</td>\n",
       "      <td>40.745495</td>\n",
       "      <td>-73.988690</td>\n",
       "      <td>POINT (-73.98869 40.7455)</td>\n",
       "    </tr>\n",
       "    <tr>\n",
       "      <th>892</th>\n",
       "      <td>Spring St (C,E)</td>\n",
       "      <td>1055.0</td>\n",
       "      <td>4297.0</td>\n",
       "      <td>-3242.0</td>\n",
       "      <td>0.197</td>\n",
       "      <td>168.0</td>\n",
       "      <td>40.726227</td>\n",
       "      <td>-74.003740</td>\n",
       "      <td>POINT (-74.00374 40.72623)</td>\n",
       "    </tr>\n",
       "    <tr>\n",
       "      <th>464</th>\n",
       "      <td>Canal St (1)</td>\n",
       "      <td>266.0</td>\n",
       "      <td>1071.0</td>\n",
       "      <td>-805.0</td>\n",
       "      <td>0.199</td>\n",
       "      <td>325.0</td>\n",
       "      <td>40.722855</td>\n",
       "      <td>-74.006280</td>\n",
       "      <td>POINT (-74.00628 40.72286)</td>\n",
       "    </tr>\n",
       "    <tr>\n",
       "      <th>...</th>\n",
       "      <td>...</td>\n",
       "      <td>...</td>\n",
       "      <td>...</td>\n",
       "      <td>...</td>\n",
       "      <td>...</td>\n",
       "      <td>...</td>\n",
       "      <td>...</td>\n",
       "      <td>...</td>\n",
       "      <td>...</td>\n",
       "    </tr>\n",
       "    <tr>\n",
       "      <th>816</th>\n",
       "      <td>Norwood Av (J,Z)</td>\n",
       "      <td>2013.0</td>\n",
       "      <td>601.0</td>\n",
       "      <td>1412.0</td>\n",
       "      <td>0.770</td>\n",
       "      <td>88.0</td>\n",
       "      <td>40.681410</td>\n",
       "      <td>-73.880035</td>\n",
       "      <td>POINT (-73.88004 40.68141)</td>\n",
       "    </tr>\n",
       "    <tr>\n",
       "      <th>930</th>\n",
       "      <td>Van Cortlandt Park-242 St (1)</td>\n",
       "      <td>218964.0</td>\n",
       "      <td>54066.0</td>\n",
       "      <td>164898.0</td>\n",
       "      <td>0.802</td>\n",
       "      <td>293.0</td>\n",
       "      <td>40.889248</td>\n",
       "      <td>-73.898580</td>\n",
       "      <td>POINT (-73.89858 40.88925)</td>\n",
       "    </tr>\n",
       "    <tr>\n",
       "      <th>966</th>\n",
       "      <td>Woodlawn (4)</td>\n",
       "      <td>275074.0</td>\n",
       "      <td>64052.0</td>\n",
       "      <td>211022.0</td>\n",
       "      <td>0.811</td>\n",
       "      <td>378.0</td>\n",
       "      <td>40.886036</td>\n",
       "      <td>-73.878750</td>\n",
       "      <td>POINT (-73.87875 40.88604)</td>\n",
       "    </tr>\n",
       "    <tr>\n",
       "      <th>202</th>\n",
       "      <td>36 St (M,R)</td>\n",
       "      <td>6705.0</td>\n",
       "      <td>1239.0</td>\n",
       "      <td>5466.0</td>\n",
       "      <td>0.844</td>\n",
       "      <td>272.0</td>\n",
       "      <td>40.752040</td>\n",
       "      <td>-73.928780</td>\n",
       "      <td>POINT (-73.92878 40.75204)</td>\n",
       "    </tr>\n",
       "    <tr>\n",
       "      <th>946</th>\n",
       "      <td>Wakefield-241 St (2)</td>\n",
       "      <td>35338.0</td>\n",
       "      <td>762.0</td>\n",
       "      <td>34576.0</td>\n",
       "      <td>0.979</td>\n",
       "      <td>416.0</td>\n",
       "      <td>40.903126</td>\n",
       "      <td>-73.850620</td>\n",
       "      <td>POINT (-73.85062 40.90313)</td>\n",
       "    </tr>\n",
       "  </tbody>\n",
       "</table>\n",
       "<p>426 rows × 9 columns</p>\n",
       "</div>"
      ],
      "text/plain": [
       "                   station_complex  metrocard     omny  \\\n",
       "890                  Spring St (6)     1245.0   6278.0   \n",
       "466               Canal St (A,C,E)     1450.0   7346.0   \n",
       "174                    28 St (R,W)     1585.0   7369.0   \n",
       "892                Spring St (C,E)     1055.0   4297.0   \n",
       "464                   Canal St (1)      266.0   1071.0   \n",
       "..                             ...        ...      ...   \n",
       "816               Norwood Av (J,Z)     2013.0    601.0   \n",
       "930  Van Cortlandt Park-242 St (1)   218964.0  54066.0   \n",
       "966                   Woodlawn (4)   275074.0  64052.0   \n",
       "202                    36 St (M,R)     6705.0   1239.0   \n",
       "946           Wakefield-241 St (2)    35338.0    762.0   \n",
       "\n",
       "     transfer_payment_type_diff  transfer_ratio_metrocard  station_complex_id  \\\n",
       "890                     -5033.0                     0.165               409.0   \n",
       "466                     -5896.0                     0.165               169.0   \n",
       "174                     -5784.0                     0.177                13.0   \n",
       "892                     -3242.0                     0.197               168.0   \n",
       "464                      -805.0                     0.199               325.0   \n",
       "..                          ...                       ...                 ...   \n",
       "816                      1412.0                     0.770                88.0   \n",
       "930                    164898.0                     0.802               293.0   \n",
       "966                    211022.0                     0.811               378.0   \n",
       "202                      5466.0                     0.844               272.0   \n",
       "946                     34576.0                     0.979               416.0   \n",
       "\n",
       "      latitude  longitude                    geometry  \n",
       "890  40.722300 -73.997140   POINT (-73.99714 40.7223)  \n",
       "466  40.720825 -74.005226  POINT (-74.00523 40.72082)  \n",
       "174  40.745495 -73.988690   POINT (-73.98869 40.7455)  \n",
       "892  40.726227 -74.003740  POINT (-74.00374 40.72623)  \n",
       "464  40.722855 -74.006280  POINT (-74.00628 40.72286)  \n",
       "..         ...        ...                         ...  \n",
       "816  40.681410 -73.880035  POINT (-73.88004 40.68141)  \n",
       "930  40.889248 -73.898580  POINT (-73.89858 40.88925)  \n",
       "966  40.886036 -73.878750  POINT (-73.87875 40.88604)  \n",
       "202  40.752040 -73.928780  POINT (-73.92878 40.75204)  \n",
       "946  40.903126 -73.850620  POINT (-73.85062 40.90313)  \n",
       "\n",
       "[426 rows x 9 columns]"
      ]
     },
     "execution_count": 97,
     "metadata": {},
     "output_type": "execute_result"
    }
   ],
   "source": [
    "# non terminal stations are more omny focused (people find using omny easier for transfers)\n",
    "# terminal stations are metrocard focused (necessary for Bee-Line transfers)\n",
    "# complex_df_payment_gdf_sorted['transfer_ratio_metrocard'].mean()\n",
    "complex_df_payment_gdf_sorted"
   ]
  },
  {
   "cell_type": "markdown",
   "metadata": {},
   "source": [
    "## Map "
   ]
  },
  {
   "cell_type": "code",
   "execution_count": null,
   "metadata": {},
   "outputs": [
    {
     "data": {
      "text/plain": [
       "<Axes: >"
      ]
     },
     "execution_count": 94,
     "metadata": {},
     "output_type": "execute_result"
    },
    {
     "data": {
      "image/png": "[encoded data removed]",
      "text/plain": [
       "<Figure size 600x800 with 1 Axes>"
      ]
     },
     "metadata": {},
     "output_type": "display_data"
    }
   ],
   "source": [
    "# show the stations' payment method of choice for transfers \n",
    "## use diverging continuous scales to do so\n",
    "fig, ax = plt.subplots(figsize=(6,8))\n",
    "boros.plot(ax=ax, color=\"white\", edgecolor=\"black\")\n",
    "plt.axis('off')\n",
    "plt.suptitle('Most OMNY- and Most MetroCard-Preferred Transfers - NYC Subway',\n",
    "             fontdict={'fontsize': '20','fontweight' : '3'}, y=0.9)\n",
    "complex_df_payment_gdf_sorted[-10:].plot(color='Blue', ax=ax)\n",
    "complex_df_payment_gdf_sorted[:10].plot(color='Red',ax=ax)\n",
    "lines_gdf.plot(ax=ax, color='lightgray', alpha=0.1)\n",
    "# plt.savefig(\"./saved_data/station_transfer_ratios_by_payment\", dpi=50, bbox_inches='tight')"
   ]
  },
  {
   "cell_type": "code",
   "execution_count": null,
   "metadata": {},
   "outputs": [],
   "source": []
  },
  {
   "cell_type": "code",
   "execution_count": null,
   "metadata": {},
   "outputs": [],
   "source": []
  }
 ],
 "metadata": {
  "kernelspec": {
   "display_name": "nyc_subway_env",
   "language": "python",
   "name": "python3"
  },
  "language_info": {
   "codemirror_mode": {
    "name": "ipython",
    "version": 3
   },
   "file_extension": ".py",
   "mimetype": "text/x-python",
   "name": "python",
   "nbconvert_exporter": "python",
   "pygments_lexer": "ipython3",
   "version": "3.12.4"
  },
  "toc": {
   "base_numbering": 1,
   "nav_menu": {},
   "number_sections": true,
   "sideBar": true,
   "skip_h1_title": false,
   "title_cell": "Table of Contents",
   "title_sidebar": "Contents",
   "toc_cell": false,
   "toc_position": {
    "height": "calc(100% - 180px)",
    "left": "10px",
    "top": "150px",
    "width": "165px"
   },
   "toc_section_display": true,
   "toc_window_display": true
  },
  "varInspector": {
   "cols": {
    "lenName": 16,
    "lenType": 16,
    "lenVar": 40
   },
   "kernels_config": {
    "python": {
     "delete_cmd_postfix": "",
     "delete_cmd_prefix": "del ",
     "library": "var_list.py",
     "varRefreshCmd": "print(var_dic_list())"
    },
    "r": {
     "delete_cmd_postfix": ") ",
     "delete_cmd_prefix": "rm(",
     "library": "var_list.r",
     "varRefreshCmd": "cat(var_dic_list()) "
    }
   },
   "types_to_exclude": [
    "module",
    "function",
    "builtin_function_or_method",
    "instance",
    "_Feature"
   ],
   "window_display": false
  }
 },
 "nbformat": 4,
 "nbformat_minor": 2
}
